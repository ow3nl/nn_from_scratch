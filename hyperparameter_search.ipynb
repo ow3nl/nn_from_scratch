{
 "cells": [
  {
   "cell_type": "markdown",
   "metadata": {},
   "source": [
    "# Searching for Optimal Hyperparameters\n",
    "\n",
    "In this section, I try to optimize several factors including:\n",
    "  - Learning rate\n",
    "  - Number of hidden layers\n",
    "  - Number of neurons in each hidden layer\n",
    "  - Activation function\n",
    "  - Loss function\n",
    "\n",
    "To do this, I create a number of networks and train them for 10 epochs each, taking the best of 3 runs for each network.\n",
    "\n",
    "For each variable, I first attempted a wide range of possible values. Then, when I had a pretty good idea of what range of values yield good results, I used a ternary search to quickly converge on the optimal value."
   ]
  },
  {
   "cell_type": "markdown",
   "metadata": {},
   "source": [
    "### Utility functions\n",
    "\n",
    "These functions will be useful for training groups of networks, and visualizing the best results."
   ]
  },
  {
   "cell_type": "code",
   "execution_count": null,
   "metadata": {},
   "outputs": [],
   "source": [
    "from typing import *\n",
    "from network import *"
   ]
  },
  {
   "cell_type": "code",
   "execution_count": null,
   "metadata": {},
   "outputs": [],
   "source": [
    "class NetworkGroup:\n",
    "\n",
    "    def __init__(self, networks: Optional[List[Network]] = None) -> None:\n",
    "        self.networks = networks\n",
    "    \n",
    "    def run_experiment(self, n_runs: int = 3, epochs: int = 30):\n",
    "        scores = [0 for _ in range(len(self.networks))]\n",
    "        for i, network in enumerate(self.networks, 1):\n",
    "            print(f\"Testing network {i}...\")\n",
    "            correct = 0\n",
    "            for run in range(1, n_runs + 1):\n",
    "                print(f\"Training, run {run}...\")\n",
    "                network.reset()\n",
    "                network.train(epochs, training_data)\n",
    "                cur = network.evaluate(testing_data)\n",
    "                percent = round(cur / len(testing_data) * 100, 2)\n",
    "                print(f\"Run {run}: {cur} / {len(testing_data)} ({percent}%)\")\n",
    "                correct = max(correct, cur)\n",
    "            scores[i-1] = correct\n",
    "            percent = round(correct / len(testing_data) * 100, 2)\n",
    "            print(f\"Best run: {correct} / {len(testing_data)} ({percent}%)\")\n",
    "            print()\n",
    "        \n",
    "        print(\"Experiment complete\")\n",
    "        sorted_networks = [(s, i) for i, s in enumerate(scores, 1)]\n",
    "        sorted_networks.sort(reverse=True)\n",
    "        print(f\"In order of accuracy after 10 epochs:\")\n",
    "        t = len(testing_data)\n",
    "        for score, index in sorted_networks:\n",
    "            percent = round(score / t * 100, 2)\n",
    "            print(f\"  Network {index}: {score} / {t} ({percent}%)\")\n",
    "    \n",
    "    def wide_search(\n",
    "        self,\n",
    "        constructor: Callable,\n",
    "        values: List[float],\n",
    "        runs: int = 3,\n",
    "        epochs: int = 30\n",
    "    ):\n",
    "        self.networks = []\n",
    "        for value in values:\n",
    "            self.networks.append(constructor(value))\n",
    "        \n",
    "        self.run_experiment(runs, epochs)\n",
    "    \n",
    "    def ternary_search(self, constructor: Callable, low, high):\n",
    "        pass\n",
    "\n"
   ]
  },
  {
   "cell_type": "markdown",
   "metadata": {},
   "source": [
    "### One hidden layer"
   ]
  },
  {
   "cell_type": "markdown",
   "metadata": {},
   "source": [
    "### Learning rate optimization"
   ]
  },
  {
   "cell_type": "code",
   "execution_count": null,
   "metadata": {},
   "outputs": [],
   "source": [
    "def learning_rate_constructor(learning_rate: float):\n",
    "    return Network(\n",
    "        [\n",
    "            Dense(784, 30),\n",
    "            Sigmoid(30),\n",
    "            Dense(30, 10),\n",
    "            Sigmoid(10)\n",
    "        ],\n",
    "        mse_prime,\n",
    "        learning_rate,\n",
    "        64\n",
    "    )"
   ]
  },
  {
   "cell_type": "code",
   "execution_count": null,
   "metadata": {},
   "outputs": [
    {
     "ename": "NameError",
     "evalue": "name 'mse_prime' is not defined",
     "output_type": "error",
     "traceback": [
      "\u001b[0;31m---------------------------------------------------------------------------\u001b[0m\n",
      "\u001b[0;31mNameError\u001b[0m                                 Traceback (most recent call last)\n",
      "\u001b[1;32m/Users/owen/Documents/GitHub/nn_from_scratch/basic_network.ipynb Cell 33\u001b[0m line \u001b[0;36m2\n",
      "\u001b[1;32m      <a href='vscode-notebook-cell:/Users/owen/Documents/GitHub/nn_from_scratch/basic_network.ipynb#X40sZmlsZQ%3D%3D?line=0'>1</a>\u001b[0m Group \u001b[39m=\u001b[39m NetworkGroup()\n",
      "\u001b[0;32m----> <a href='vscode-notebook-cell:/Users/owen/Documents/GitHub/nn_from_scratch/basic_network.ipynb#X40sZmlsZQ%3D%3D?line=1'>2</a>\u001b[0m Group\u001b[39m.\u001b[39;49mwide_search(learning_rate_constructor, [\u001b[39m0.01\u001b[39;49m, \u001b[39m0.1\u001b[39;49m, \u001b[39m0.5\u001b[39;49m, \u001b[39m1.0\u001b[39;49m, \u001b[39m3.0\u001b[39;49m, \u001b[39m10.0\u001b[39;49m], \u001b[39m1\u001b[39;49m)\n",
      "\n",
      "\u001b[1;32m/Users/owen/Documents/GitHub/nn_from_scratch/basic_network.ipynb Cell 33\u001b[0m line \u001b[0;36m4\n",
      "\u001b[1;32m     <a href='vscode-notebook-cell:/Users/owen/Documents/GitHub/nn_from_scratch/basic_network.ipynb#X40sZmlsZQ%3D%3D?line=39'>40</a>\u001b[0m \u001b[39mself\u001b[39m\u001b[39m.\u001b[39mnetworks \u001b[39m=\u001b[39m []\n",
      "\u001b[1;32m     <a href='vscode-notebook-cell:/Users/owen/Documents/GitHub/nn_from_scratch/basic_network.ipynb#X40sZmlsZQ%3D%3D?line=40'>41</a>\u001b[0m \u001b[39mfor\u001b[39;00m value \u001b[39min\u001b[39;00m values:\n",
      "\u001b[0;32m---> <a href='vscode-notebook-cell:/Users/owen/Documents/GitHub/nn_from_scratch/basic_network.ipynb#X40sZmlsZQ%3D%3D?line=41'>42</a>\u001b[0m     \u001b[39mself\u001b[39m\u001b[39m.\u001b[39mnetworks\u001b[39m.\u001b[39mappend(constructor(value))\n",
      "\u001b[1;32m     <a href='vscode-notebook-cell:/Users/owen/Documents/GitHub/nn_from_scratch/basic_network.ipynb#X40sZmlsZQ%3D%3D?line=43'>44</a>\u001b[0m \u001b[39mself\u001b[39m\u001b[39m.\u001b[39mrun_experiment(runs, epochs)\n",
      "\n",
      "\u001b[1;32m/Users/owen/Documents/GitHub/nn_from_scratch/basic_network.ipynb Cell 33\u001b[0m line \u001b[0;36m9\n",
      "\u001b[1;32m      <a href='vscode-notebook-cell:/Users/owen/Documents/GitHub/nn_from_scratch/basic_network.ipynb#X40sZmlsZQ%3D%3D?line=0'>1</a>\u001b[0m \u001b[39mdef\u001b[39;00m \u001b[39mlearning_rate_constructor\u001b[39m(learning_rate: \u001b[39mfloat\u001b[39m):\n",
      "\u001b[1;32m      <a href='vscode-notebook-cell:/Users/owen/Documents/GitHub/nn_from_scratch/basic_network.ipynb#X40sZmlsZQ%3D%3D?line=1'>2</a>\u001b[0m     \u001b[39mreturn\u001b[39;00m Network(\n",
      "\u001b[1;32m      <a href='vscode-notebook-cell:/Users/owen/Documents/GitHub/nn_from_scratch/basic_network.ipynb#X40sZmlsZQ%3D%3D?line=2'>3</a>\u001b[0m         [\n",
      "\u001b[1;32m      <a href='vscode-notebook-cell:/Users/owen/Documents/GitHub/nn_from_scratch/basic_network.ipynb#X40sZmlsZQ%3D%3D?line=3'>4</a>\u001b[0m             Dense(\u001b[39m784\u001b[39m, \u001b[39m30\u001b[39m),\n",
      "\u001b[1;32m      <a href='vscode-notebook-cell:/Users/owen/Documents/GitHub/nn_from_scratch/basic_network.ipynb#X40sZmlsZQ%3D%3D?line=4'>5</a>\u001b[0m             Sigmoid(\u001b[39m30\u001b[39m),\n",
      "\u001b[1;32m      <a href='vscode-notebook-cell:/Users/owen/Documents/GitHub/nn_from_scratch/basic_network.ipynb#X40sZmlsZQ%3D%3D?line=5'>6</a>\u001b[0m             Dense(\u001b[39m30\u001b[39m, \u001b[39m10\u001b[39m),\n",
      "\u001b[1;32m      <a href='vscode-notebook-cell:/Users/owen/Documents/GitHub/nn_from_scratch/basic_network.ipynb#X40sZmlsZQ%3D%3D?line=6'>7</a>\u001b[0m             Sigmoid(\u001b[39m10\u001b[39m)\n",
      "\u001b[1;32m      <a href='vscode-notebook-cell:/Users/owen/Documents/GitHub/nn_from_scratch/basic_network.ipynb#X40sZmlsZQ%3D%3D?line=7'>8</a>\u001b[0m         ],\n",
      "\u001b[0;32m----> <a href='vscode-notebook-cell:/Users/owen/Documents/GitHub/nn_from_scratch/basic_network.ipynb#X40sZmlsZQ%3D%3D?line=8'>9</a>\u001b[0m         mse_prime,\n",
      "\u001b[1;32m     <a href='vscode-notebook-cell:/Users/owen/Documents/GitHub/nn_from_scratch/basic_network.ipynb#X40sZmlsZQ%3D%3D?line=9'>10</a>\u001b[0m         learning_rate,\n",
      "\u001b[1;32m     <a href='vscode-notebook-cell:/Users/owen/Documents/GitHub/nn_from_scratch/basic_network.ipynb#X40sZmlsZQ%3D%3D?line=10'>11</a>\u001b[0m         \u001b[39m64\u001b[39m\n",
      "\u001b[1;32m     <a href='vscode-notebook-cell:/Users/owen/Documents/GitHub/nn_from_scratch/basic_network.ipynb#X40sZmlsZQ%3D%3D?line=11'>12</a>\u001b[0m     )\n",
      "\n",
      "\u001b[0;31mNameError\u001b[0m: name 'mse_prime' is not defined"
     ]
    }
   ],
   "source": [
    "Group = NetworkGroup()\n",
    "Group.wide_search(learning_rate_constructor, [0.01, 0.1, 0.5, 1.0, 3.0, 10.0], 1)"
   ]
  }
 ],
 "metadata": {
  "kernelspec": {
   "display_name": "Python 3",
   "language": "python",
   "name": "python3"
  },
  "language_info": {
   "name": "python",
   "version": "3.11.5"
  },
  "orig_nbformat": 4
 },
 "nbformat": 4,
 "nbformat_minor": 2
}
